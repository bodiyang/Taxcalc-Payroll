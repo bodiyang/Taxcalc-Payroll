{
 "cells": [
  {
   "cell_type": "code",
   "execution_count": 1,
   "id": "0ec118e5",
   "metadata": {},
   "outputs": [],
   "source": [
    "import taxcalc as tc"
   ]
  },
  {
   "cell_type": "code",
   "execution_count": 2,
   "id": "10212d72",
   "metadata": {},
   "outputs": [],
   "source": [
    "from taxcalc.policy import Policy"
   ]
  },
  {
   "cell_type": "code",
   "execution_count": 6,
   "id": "bae8358a",
   "metadata": {},
   "outputs": [],
   "source": [
    "from calcfunctions import (EI_PayrollTax, AdditionalMedicareTax)"
   ]
  },
  {
   "cell_type": "code",
   "execution_count": null,
   "id": "d28a06f3",
   "metadata": {},
   "outputs": [],
   "source": []
  }
 ],
 "metadata": {
  "kernelspec": {
   "display_name": "Python 3 (ipykernel)",
   "language": "python",
   "name": "python3"
  },
  "language_info": {
   "codemirror_mode": {
    "name": "ipython",
    "version": 3
   },
   "file_extension": ".py",
   "mimetype": "text/x-python",
   "name": "python",
   "nbconvert_exporter": "python",
   "pygments_lexer": "ipython3",
   "version": "3.9.13"
  }
 },
 "nbformat": 4,
 "nbformat_minor": 5
}
