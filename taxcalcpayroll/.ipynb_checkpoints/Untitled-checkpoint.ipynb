{
 "cells": [
  {
   "cell_type": "code",
   "execution_count": 1,
   "id": "56095ef1",
   "metadata": {},
   "outputs": [],
   "source": [
    "import taxcalc as tc"
   ]
  },
  {
   "cell_type": "code",
   "execution_count": 2,
   "id": "ed371d5f",
   "metadata": {},
   "outputs": [],
   "source": [
    "from taxcalc.policy import Policy"
   ]
  },
  {
   "cell_type": "code",
   "execution_count": 4,
   "id": "ca17cb49",
   "metadata": {},
   "outputs": [],
   "source": [
    "from calcfunctions import (EI_PayrollTax, AdditionalMedicareTax)"
   ]
  },
  {
   "cell_type": "code",
   "execution_count": null,
   "id": "d97b6902",
   "metadata": {},
   "outputs": [],
   "source": []
  }
 ],
 "metadata": {
  "kernelspec": {
   "display_name": "Python 3 (ipykernel)",
   "language": "python",
   "name": "python3"
  },
  "language_info": {
   "codemirror_mode": {
    "name": "ipython",
    "version": 3
   },
   "file_extension": ".py",
   "mimetype": "text/x-python",
   "name": "python",
   "nbconvert_exporter": "python",
   "pygments_lexer": "ipython3",
   "version": "3.9.13"
  }
 },
 "nbformat": 4,
 "nbformat_minor": 5
}
