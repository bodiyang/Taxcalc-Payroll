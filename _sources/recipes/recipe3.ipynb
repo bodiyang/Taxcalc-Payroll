{
 "cells": [
  {
   "cell_type": "markdown",
   "id": "66972857",
   "metadata": {},
   "source": [
    "# Recipe3: Comparison of Different Payroll Tax Reforms "
   ]
  },
  {
   "cell_type": "markdown",
   "id": "d6d1a206",
   "metadata": {},
   "source": [
    "This Receipe is to compare the difference between the payroll tax reforms implemented upon the employer side and the employee side. The payroll tax reform implemented upon the employer side will come with an offset, while the reform on employee side will not come with offset. The hypothesis is that the employee side reform will generate more revenue."
   ]
  },
  {
   "cell_type": "code",
   "execution_count": null,
   "id": "c6e7dd74",
   "metadata": {},
   "outputs": [],
   "source": [
    "import taxcalcpayroll as tcp\n",
    "import taxcalc as tc\n",
    "from taxcalcpayroll.payrolloffset import employer_payroll_offset"
   ]
  },
  {
   "cell_type": "markdown",
   "id": "3619c8ba",
   "metadata": {},
   "source": [
    "#### reform 1: rise 1% employer side FICA social security\n",
    "#### reform 2: rise 1% employee side FICA social security"
   ]
  },
  {
   "cell_type": "markdown",
   "id": "6e80cf11",
   "metadata": {},
   "source": [
    "baseline policy"
   ]
  },
  {
   "cell_type": "code",
   "execution_count": null,
   "id": "3a64f433",
   "metadata": {},
   "outputs": [],
   "source": [
    "recs = tcp.Records(data = 'puf.csv')\n",
    "pol = tcp.Policy()\n",
    "calc0 = tcp.Calculator(policy = pol, records = recs)"
   ]
  },
  {
   "cell_type": "markdown",
   "id": "5460bddd",
   "metadata": {},
   "source": [
    "reform 1: to rise 1% employer side FICA social security "
   ]
  },
  {
   "cell_type": "code",
   "execution_count": null,
   "id": "58182fc9",
   "metadata": {},
   "outputs": [],
   "source": [
    "recs = tcp.Records(data = 'puf.csv')\n",
    "pol1 = tcp.Policy()\n",
    "reform1 = {'FICA_ss_trt_employer': {\"2025\": 0.072}}\n",
    "pol1.implement_reform(reform1, print_warnings=True, raise_errors=True)\n",
    "calc1 = tcp.Calculator(policy = pol1, records = recs)"
   ]
  },
  {
   "cell_type": "markdown",
   "id": "bb345514",
   "metadata": {},
   "source": [
    "reform 2: to rise 1% employee side FICA social security "
   ]
  },
  {
   "cell_type": "code",
   "execution_count": null,
   "id": "71ff6ecb",
   "metadata": {
    "scrolled": true
   },
   "outputs": [],
   "source": [
    "recs = tcp.Records(data = 'puf.csv')\n",
    "pol2 = tcp.Policy()\n",
    "reform2 = {'FICA_ss_trt_employee': {\"2025\": 0.072}}\n",
    "pol2.implement_reform(reform2, print_warnings=True, raise_errors=True)\n",
    "calc2 = tcp.Calculator(policy = pol2, records = recs)"
   ]
  },
  {
   "cell_type": "markdown",
   "id": "481f34cc",
   "metadata": {},
   "source": [
    "## Calculated total tax revenue for the future years "
   ]
  },
  {
   "cell_type": "code",
   "execution_count": null,
   "id": "449fab93",
   "metadata": {},
   "outputs": [],
   "source": [
    "for year in range(2023, 2031):   \n",
    "    print(\"year: \", year)\n",
    "    calc0.advance_to_year(year)\n",
    "    calc0.calc_all()\n",
    "    itax_rev0 = calc0.weighted_total('combined')\n",
    "    print(\"current law combined tax revenue: $\", (itax_rev0/10**9).round(2), \"Billions\")\n",
    "    print(\" \")\n",
    "    print(\"reform 1 to rise 1% employer side FICA social security \")\n",
    "    calc1.advance_to_year(year)\n",
    "    calc1.calc_all()\n",
    "    itax_rev1 = calc1.weighted_total('combined')\n",
    "    print(\"reformed law combined tax revenue: $\", (itax_rev1/10**9).round(2), \"Billions\")\n",
    "    offset_df = employer_payroll_offset(reform1, calc0, pol, recs, dump=False)\n",
    "    itax_revbr = (offset_df['combined'] * offset_df['s006']).sum()\n",
    "    print(\"offset combined tax revenue: \", (itax_revbr/10**9).round(2), \"Billions\")\n",
    "    print(\" \")\n",
    "    print(\"reform 2 to rise 1% employee side FICA social security \")\n",
    "    calc2.advance_to_year(year)\n",
    "    calc2.calc_all()\n",
    "    itax_rev2 = calc2.weighted_total('combined')\n",
    "    print(\"reformed law combined tax revenue: $\", (itax_rev2/10**9).round(2), \"Billions\")\n",
    "    offset_df2 = employer_payroll_offset(reform2, calc0, pol, recs, dump=False)\n",
    "    itax_revbr2 = (offset_df2['combined'] * offset_df2['s006']).sum()\n",
    "    print(\"offset combined tax revenue: \", (itax_revbr2/10**9).round(2), \"Billions\")\n",
    "    print(\" \")"
   ]
  },
  {
   "cell_type": "markdown",
   "id": "9087ae60",
   "metadata": {},
   "source": [
    "year:  2023\n",
    "current law combined tax revenue: $ 3636.44 Billions\n",
    " \n",
    "reform 1 to rise 1% employer side FICA social security \n",
    "\n",
    "reformed law combined tax revenue: $ 3636.44 Billions\n",
    "\n",
    "offset combined tax revenue:  3636.44 Billions\n",
    " \n",
    "reform 2 to rise 1% employee side FICA social security \n",
    "\n",
    "reformed law combined tax revenue: $ 3636.44 Billions\n",
    "\n",
    "offset combined tax revenue:  3636.44 Billions\n",
    " \n",
    "year:  2024\n",
    "\n",
    "current law combined tax revenue: $ 3757.61 Billions\n",
    " \n",
    "reform 1 to rise 1% employer side FICA social security \n",
    "\n",
    "reformed law combined tax revenue: $ 3757.61 Billions\n",
    "\n",
    "offset combined tax revenue:  3757.61 Billions\n",
    " \n",
    "reform 2 to rise 1% employee side FICA social security \n",
    "\n",
    "reformed law combined tax revenue: $ 3757.61 Billions\n",
    "\n",
    "offset combined tax revenue:  3757.61 Billions\n",
    " \n",
    "year:  2025\n",
    "\n",
    "current law combined tax revenue: $ 3952.99 Billions\n",
    " \n",
    "reform 1 to rise 1% employer side FICA social security \n",
    "\n",
    "reformed law combined tax revenue: $ 4053.78 Billions\n",
    "\n",
    "offset combined tax revenue:  4023.51 Billions\n",
    " \n",
    "reform 2 to rise 1% employee side FICA social security \n",
    "\n",
    "reformed law combined tax revenue: $ 4053.78 Billions\n",
    "\n",
    "offset combined tax revenue:  4053.78 Billions\n",
    " \n",
    "year:  2026\n",
    "\n",
    "current law combined tax revenue: $ 4353.22 Billions\n",
    " \n",
    "reform 1 to rise 1% employer side FICA social security \n",
    "\n",
    "reformed law combined tax revenue: $ 4458.41 Billions\n",
    "\n",
    "offset combined tax revenue:  4423.9 Billions\n",
    " \n",
    "reform 2 to rise 1% employee side FICA social security \n",
    "\n",
    "reformed law combined tax revenue: $ 4458.41 Billions\n",
    "\n",
    "offset combined tax revenue:  4458.41 Billions\n",
    " \n",
    "year:  2027\n",
    "\n",
    "current law combined tax revenue: $ 4543.83 Billions\n",
    " \n",
    "reform 1 to rise 1% employer side FICA social security \n",
    "\n",
    "reformed law combined tax revenue: $ 4653.24 Billions\n",
    "\n",
    "offset combined tax revenue:  4617.23 Billions\n",
    " \n",
    "reform 2 to rise 1% employee side FICA social security \n",
    "\n",
    "reformed law combined tax revenue: $ 4653.24 Billions\n",
    "\n",
    "offset combined tax revenue:  4653.24 Billions\n",
    " \n",
    "year:  2028\n",
    "\n",
    "current law combined tax revenue: $ 4737.26 Billions\n",
    " \n",
    "reform 1 to rise 1% employer side FICA social security \n",
    "\n",
    "reformed law combined tax revenue: $ 4850.96 Billions\n",
    "\n",
    "offset combined tax revenue:  4813.43 Billions\n",
    " \n",
    "reform 2 to rise 1% employee side FICA social security \n",
    "\n",
    "reformed law combined tax revenue: $ 4850.96 Billions\n",
    "\n",
    "offset combined tax revenue:  4850.96 Billions\n",
    " \n",
    "year:  2029\n",
    "\n",
    "current law combined tax revenue: $ 4935.73 Billions\n",
    " \n",
    "reform 1 to rise 1% employer side FICA social security \n",
    "\n",
    "reformed law combined tax revenue: $ 5053.9 Billions\n",
    "\n",
    "offset combined tax revenue:  5014.79 Billions\n",
    " \n",
    "reform 2 to rise 1% employee side FICA social security \n",
    "\n",
    "reformed law combined tax revenue: $ 5053.9 Billions\n",
    "\n",
    "offset combined tax revenue:  5053.9 Billions\n",
    " \n",
    "year:  2030\n",
    "\n",
    "current law combined tax revenue: $ 5139.73 Billions\n",
    " \n",
    "reform 1 to rise 1% employer side FICA social security \n",
    "\n",
    "reformed law combined tax revenue: $ 5262.54 Billions\n",
    "\n",
    "offset combined tax revenue:  5221.78 Billions\n",
    " \n",
    "reform 2 to rise 1% employee side FICA social security \n",
    "\n",
    "reformed law combined tax revenue: $ 5262.54 Billions\n",
    "\n",
    "offset combined tax revenue:  5262.54 Billions"
   ]
  },
  {
   "cell_type": "markdown",
   "id": "89da5905",
   "metadata": {},
   "source": [
    "### Case example, for the year 2030:\n",
    "\n",
    "#### Baseline Policy: \n",
    "combined tax revenue: $ 5139.73 Billions\n",
    "\n",
    "#### Reform 1 to rise 1% employer side FICA social security\n",
    "\n",
    "combined tax revenue with offset applied:  5221.78 Billions\n",
    "\n",
    "#### Reform 2 to rise 1% employee side FICA social security \n",
    "\n",
    "combined tax revenue with offset applied:  5262.54 Billions "
   ]
  }
 ],
 "metadata": {
  "kernelspec": {
   "display_name": "Python 3 (ipykernel)",
   "language": "python",
   "name": "python3"
  },
  "language_info": {
   "codemirror_mode": {
    "name": "ipython",
    "version": 3
   },
   "file_extension": ".py",
   "mimetype": "text/x-python",
   "name": "python",
   "nbconvert_exporter": "python",
   "pygments_lexer": "ipython3",
   "version": "3.9.13"
  }
 },
 "nbformat": 4,
 "nbformat_minor": 5
}
