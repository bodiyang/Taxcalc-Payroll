{
 "cells": [
  {
   "cell_type": "markdown",
   "id": "66972857",
   "metadata": {},
   "source": [
    "# Recipe2: Employer side Payroll Tax Offset "
   ]
  },
  {
   "cell_type": "markdown",
   "id": "c07711bd",
   "metadata": {},
   "source": [
    "This recipe is to introduce the usage of ` employer_payroll_offset` function from `payrolloffset.py`, when calling the function to conduct analysis upon employer side payroll tax reform"
   ]
  },
  {
   "cell_type": "code",
   "execution_count": 68,
   "id": "c6e7dd74",
   "metadata": {},
   "outputs": [],
   "source": [
    "import taxcalcpayroll as tcp\n",
    "from taxcalcpayroll.payrolloffset import employer_payroll_offset\n",
    "\n",
    "import pandas as pd\n",
    "import numpy as np"
   ]
  },
  {
   "cell_type": "code",
   "execution_count": null,
   "id": "88f8cded",
   "metadata": {},
   "outputs": [],
   "source": [
    "recs = tcp.Records(data = 'puf.csv')\n",
    "pol = tcp.Policy()\n",
    "calc0 = tcp.Calculator(policy = pol, records = recs)"
   ]
  },
  {
   "cell_type": "markdown",
   "id": "74f9d282",
   "metadata": {},
   "source": [
    "#### policy reform: increase the employer side FICA social security payroll tax rate to 0.072, for the year 2025 "
   ]
  },
  {
   "cell_type": "code",
   "execution_count": 70,
   "id": "ec3784a3",
   "metadata": {},
   "outputs": [],
   "source": [
    "reform1 = {'FICA_ss_trt_employer': {\"2025\": 0.072}}"
   ]
  },
  {
   "cell_type": "markdown",
   "id": "f7e42f55",
   "metadata": {},
   "source": [
    "### (1) total tax revenue after the reform (without offset)"
   ]
  },
  {
   "cell_type": "code",
   "execution_count": null,
   "id": "6c43c4e0",
   "metadata": {},
   "outputs": [],
   "source": [
    "recs = tcp.Records(data = 'puf.csv')\n",
    "pol1 = tcp.Policy()\n",
    "pol1.implement_reform(reform1, print_warnings=True, raise_errors=True)\n",
    "calc1 = tcp.Calculator(policy = pol1, records = recs)\n",
    "\n",
    "calc1.advance_to_year(2025)\n",
    "calc1.calc_all()\n",
    "print(\"In 2025, combined tax revenue under reformed policy (without offset) is: \", calc1.weighted_total('combined') / 10**9)"
   ]
  },
  {
   "cell_type": "markdown",
   "id": "c218df57",
   "metadata": {},
   "source": [
    "In 2025, combined tax revenue under reformed policy (without offset) is:  $4053.78 Billion"
   ]
  },
  {
   "cell_type": "markdown",
   "id": "884f4b3c",
   "metadata": {},
   "source": [
    "### (2) total tax revenue after the reform, considering the offset"
   ]
  },
  {
   "cell_type": "code",
   "execution_count": 72,
   "id": "0872e06c",
   "metadata": {},
   "outputs": [],
   "source": [
    "calc0.advance_to_year(2025)\n",
    "calc0.calc_all()"
   ]
  },
  {
   "cell_type": "markdown",
   "id": "0549a26a",
   "metadata": {},
   "source": [
    "### Function usage:\n",
    "Input for offset function: baseline calculator (its policy and records object) and reform policy \n",
    "\n",
    "Output for offset function: returns a dataframe of output variables"
   ]
  },
  {
   "cell_type": "code",
   "execution_count": null,
   "id": "78b01370",
   "metadata": {},
   "outputs": [],
   "source": [
    "offdf = employer_payroll_offset(reform1, calc0, pol, recs, dump=False)    "
   ]
  },
  {
   "cell_type": "markdown",
   "id": "d7968a54",
   "metadata": {},
   "source": [
    "print the result of calculated combined tax revenue"
   ]
  },
  {
   "cell_type": "code",
   "execution_count": 74,
   "id": "83baa2ab",
   "metadata": {},
   "outputs": [
    {
     "name": "stdout",
     "output_type": "stream",
     "text": [
      "In 2025, combined tax revenue under reformed policy, after the offset, is:  4023.508250234729\n"
     ]
    }
   ],
   "source": [
    "print(\"In 2025, combined tax revenue under reformed policy, after the offset, is: \", (offdf['combined'] * offdf['s006']).sum() / 10**9)"
   ]
  },
  {
   "cell_type": "markdown",
   "id": "9f13def1",
   "metadata": {},
   "source": [
    "In 2025, combined tax revenue under reformed policy, after the offset, is:  $4023.51 Billion"
   ]
  },
  {
   "cell_type": "markdown",
   "id": "982e877d",
   "metadata": {},
   "source": [
    "## Muti year usage"
   ]
  },
  {
   "cell_type": "markdown",
   "id": "8d919226",
   "metadata": {},
   "source": [
    "Comparison of total tax revenue calculation of baseline policy, reform policy (without offset), and reform policy considering offset"
   ]
  },
  {
   "cell_type": "code",
   "execution_count": 75,
   "id": "8588fe23",
   "metadata": {},
   "outputs": [],
   "source": [
    "# setup some tool list to help printing result\n",
    "dtable = pd.DataFrame([])\n",
    "year_list = []\n",
    "cur_list = []\n",
    "reform_list = []\n",
    "offset_list = []\n",
    "base_ref_diff = []\n",
    "ref_offset_diff = []\n",
    "base_offset_diff = []\n",
    "\n",
    "cur_sum = 0\n",
    "reform_sum = 0\n",
    "offset_sum = 0\n",
    "base_ref_sum = 0\n",
    "ref_offset_sum = 0\n",
    "base_offset_sum = 0"
   ]
  },
  {
   "cell_type": "code",
   "execution_count": null,
   "id": "03e6e93a",
   "metadata": {},
   "outputs": [],
   "source": [
    "recs = tcp.Records(data = 'puf.csv')\n",
    "pol = tcp.Policy()\n",
    "calc0 = tcp.Calculator(policy = pol, records = recs)\n",
    "\n",
    "recs = tcp.Records(data = 'puf.csv')\n",
    "pol1 = tcp.Policy()\n",
    "pol1.implement_reform(reform1, print_warnings=True, raise_errors=True)\n",
    "calc1 = tcp.Calculator(policy = pol1, records = recs)"
   ]
  },
  {
   "cell_type": "code",
   "execution_count": null,
   "id": "b2335573",
   "metadata": {},
   "outputs": [
    {
     "name": "stderr",
     "output_type": "stream",
     "text": [
      "/Users/bodiyang/Desktop/taxcalc/Tax-Calculator/taxcalc/records.py:353: FutureWarning: Series.__getitem__ treating keys as positions is deprecated. In a future version, integer keys will always be treated as labels (consistent with DataFrame behavior). To access a value by position, use `ser.iloc[pos]`\n",
      "  self.e00300 *= self.ADJ['INT{}'.format(year)][self.agi_bin].values\n",
      "/Users/bodiyang/Desktop/taxcalc/Tax-Calculator/taxcalc/records.py:353: FutureWarning: Series.__getitem__ treating keys as positions is deprecated. In a future version, integer keys will always be treated as labels (consistent with DataFrame behavior). To access a value by position, use `ser.iloc[pos]`\n",
      "  self.e00300 *= self.ADJ['INT{}'.format(year)][self.agi_bin].values\n",
      "/Users/bodiyang/Desktop/taxcalc/Tax-Calculator/taxcalc/records.py:353: FutureWarning: Series.__getitem__ treating keys as positions is deprecated. In a future version, integer keys will always be treated as labels (consistent with DataFrame behavior). To access a value by position, use `ser.iloc[pos]`\n",
      "  self.e00300 *= self.ADJ['INT{}'.format(year)][self.agi_bin].values\n",
      "/Users/bodiyang/Desktop/taxcalc/Tax-Calculator/taxcalc/records.py:353: FutureWarning: Series.__getitem__ treating keys as positions is deprecated. In a future version, integer keys will always be treated as labels (consistent with DataFrame behavior). To access a value by position, use `ser.iloc[pos]`\n",
      "  self.e00300 *= self.ADJ['INT{}'.format(year)][self.agi_bin].values\n",
      "/Users/bodiyang/Desktop/taxcalc/Tax-Calculator/taxcalc/records.py:353: FutureWarning: Series.__getitem__ treating keys as positions is deprecated. In a future version, integer keys will always be treated as labels (consistent with DataFrame behavior). To access a value by position, use `ser.iloc[pos]`\n",
      "  self.e00300 *= self.ADJ['INT{}'.format(year)][self.agi_bin].values\n"
     ]
    }
   ],
   "source": [
    "# multi year \n",
    "for year in range(2024, 2034):   \n",
    "    year_list.append(year)\n",
    "    # baseline\n",
    "    calc0.advance_to_year(year)\n",
    "    calc0.calc_all()\n",
    "    itax_rev0 = calc0.weighted_total('combined')\n",
    "    itax_rev0 = (itax_rev0/10**9).round(2)\n",
    "    cur_list.append(itax_rev0)\n",
    "    cur_sum += itax_rev0\n",
    "    \n",
    "    # reform before offset\n",
    "    calc1.advance_to_year(year)\n",
    "    calc1.calc_all()\n",
    "    itax_rev1 = calc1.weighted_total('combined')\n",
    "    itax_rev1 = (itax_rev1/10**9).round(2)\n",
    "    reform_list.append(itax_rev1)\n",
    "    br_diff = itax_rev1 - itax_rev0\n",
    "    base_ref_diff.append(br_diff)\n",
    "    reform_sum += itax_rev1\n",
    "    base_ref_sum += br_diff\n",
    "    \n",
    "    \n",
    "    # offset\n",
    "    offset_df = employer_payroll_offset(reform1, calc0, pol, recs, dump=False)\n",
    "    itax_revbr = (offset_df['combined'] * offset_df['s006']).sum()\n",
    "    itax_revbr = (itax_revbr/10**9).round(2)\n",
    "    offset_list.append(itax_revbr)\n",
    "    ro_diff = itax_revbr - itax_rev1\n",
    "    ref_offset_diff.append(ro_diff)\n",
    "    bo_diff = itax_revbr - itax_rev0\n",
    "    base_offset_diff.append(bo_diff)\n",
    "    offset_sum += itax_revbr\n",
    "    ref_offset_sum += ro_diff\n",
    "    base_offset_sum += bo_diff\n",
    "    \n",
    "    \n",
    "year_list.append(\"10 year 2024-2033\")  \n",
    "cur_list.append(cur_sum)\n",
    "reform_list.append(reform_sum)\n",
    "base_ref_diff.append(base_ref_sum)\n",
    "offset_list.append(offset_sum)\n",
    "ref_offset_diff.append(ref_offset_sum)\n",
    "base_offset_diff.append(base_offset_sum)\n"
   ]
  },
  {
   "cell_type": "code",
   "execution_count": null,
   "id": "a338081b",
   "metadata": {},
   "outputs": [],
   "source": [
    "df = pd.DataFrame({'Year': year_list, 'Baseline Tototal Revenue': cur_list, 'Reform Tototal Revenue (no offset)': reform_list,\n",
    "                   'Reform Tototal Revenue with offset': offset_list, \"Diff: Reform - Baseline\": base_ref_diff,\n",
    "                   'Diff: Offset - Reform': ref_offset_diff, \"Diff: Offset - Baseline\": base_offset_diff\n",
    "                  })"
   ]
  },
  {
   "cell_type": "code",
   "execution_count": null,
   "id": "adbcfde6",
   "metadata": {},
   "outputs": [],
   "source": [
    "df = df.style.hide()"
   ]
  },
  {
   "cell_type": "code",
   "execution_count": null,
   "id": "074fa563",
   "metadata": {},
   "outputs": [],
   "source": [
    "display(df)"
   ]
  },
  {
   "cell_type": "code",
   "execution_count": null,
   "id": "d461afc9",
   "metadata": {},
   "outputs": [],
   "source": []
  }
 ],
 "metadata": {
  "kernelspec": {
   "display_name": "Python 3 (ipykernel)",
   "language": "python",
   "name": "python3"
  },
  "language_info": {
   "codemirror_mode": {
    "name": "ipython",
    "version": 3
   },
   "file_extension": ".py",
   "mimetype": "text/x-python",
   "name": "python",
   "nbconvert_exporter": "python",
   "pygments_lexer": "ipython3",
   "version": "3.9.13"
  }
 },
 "nbformat": 4,
 "nbformat_minor": 5
}
