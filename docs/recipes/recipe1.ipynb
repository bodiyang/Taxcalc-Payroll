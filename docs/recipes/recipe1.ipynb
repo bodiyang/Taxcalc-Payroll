{
 "cells": [
  {
   "cell_type": "markdown",
   "id": "77e65ff4",
   "metadata": {},
   "source": [
    "# Recipe1: Payroll Tax Calculation"
   ]
  },
  {
   "cell_type": "markdown",
   "id": "f20854d8",
   "metadata": {},
   "source": [
    "This recipe is to introduce how to calculate income & payroll tax liabilities from Taxcalc-Payroll. \n",
    "\n",
    "To be noticed, most functions from Tax-Calculator can be called from Taxcalc-Payroll. Usages are the same for two models."
   ]
  },
  {
   "cell_type": "markdown",
   "id": "2650c634",
   "metadata": {},
   "source": [
    "### Package Import"
   ]
  },
  {
   "cell_type": "code",
   "execution_count": null,
   "id": "06cb2437",
   "metadata": {},
   "outputs": [],
   "source": [
    "import taxcalcpayroll as tcp"
   ]
  },
  {
   "cell_type": "markdown",
   "id": "179ab220",
   "metadata": {},
   "source": [
    "### Setup\n",
    "#### construct a Calculator object with Records and Policy"
   ]
  },
  {
   "cell_type": "code",
   "execution_count": null,
   "id": "7f765da0",
   "metadata": {},
   "outputs": [],
   "source": [
    "recs = tcp.Records(data = 'puf.csv')\n",
    "pol = tcp.Policy()\n",
    "calc1 = tcp.Calculator(policy = pol, records = recs)"
   ]
  },
  {
   "cell_type": "markdown",
   "id": "e1392e23",
   "metadata": {},
   "source": [
    "### Calculate & Results\n",
    "#### Calculate income and payroll tax liabilites for the indicated year "
   ]
  },
  {
   "cell_type": "markdown",
   "id": "097038ce",
   "metadata": {},
   "source": [
    "#### single year usage"
   ]
  },
  {
   "cell_type": "code",
   "execution_count": null,
   "id": "72059a97",
   "metadata": {},
   "outputs": [],
   "source": [
    "calc1.advance_to_year(2024)\n",
    "calc1.calc_all()\n",
    "\n",
    "print(\"Year 2024\")\n",
    "totiitax = calc1.weighted_total('iitax')\n",
    "totpayroll = calc1.weighted_total('payrolltax')\n",
    "print(\"total income tax revenue is: $\", (totiitax/(10**9)).round(2), \"Billion\")\n",
    "print(\"total payroll tax revenue is: $\", (totpayroll/(10**9)).round(2), \"Billion\")"
   ]
  },
  {
   "cell_type": "markdown",
   "id": "fa07285e",
   "metadata": {},
   "source": [
    "Year 2024\n",
    "\n",
    "total income tax revenue is: $ 2204.23 Billion\n",
    "\n",
    "total payroll tax revenue is: $ 1553.38 Billion"
   ]
  },
  {
   "cell_type": "markdown",
   "id": "17f233d1",
   "metadata": {},
   "source": [
    "#### multi year usage"
   ]
  },
  {
   "cell_type": "code",
   "execution_count": null,
   "id": "e3487585",
   "metadata": {},
   "outputs": [],
   "source": [
    "# multi year usage\n",
    "for cyr in range(2024,2034):\n",
    "    # advance to and calculate for specified cyr\n",
    "    calc1.advance_to_year(cyr)\n",
    "    calc1.calc_all()\n",
    "    print(\"Year \", cyr, \": total payroll tax revenue is \")\n",
    "    totpayroll = calc1.weighted_total('payrolltax')\n",
    "    print(\"$\", (totpayroll/(10**9)).round(2), \"Billions\")"
   ]
  },
  {
   "cell_type": "markdown",
   "id": "5b60bd7d",
   "metadata": {},
   "source": [
    "Year  2024 : total payroll tax revenue is \n",
    "$ 1553.38 Billions\n",
    "\n",
    "Year  2025 : total payroll tax revenue is \n",
    "$ 1629.62 Billions\n",
    "\n",
    "Year  2026 : total payroll tax revenue is \n",
    "$ 1703.17 Billions\n",
    "\n",
    "Year  2027 : total payroll tax revenue is \n",
    "$ 1771.7 Billions\n",
    "\n",
    "Year  2028 : total payroll tax revenue is \n",
    "$ 1841.91 Billions\n",
    "\n",
    "Year  2029 : total payroll tax revenue is \n",
    "$ 1915.16 Billions\n",
    "\n",
    "Year  2030 : total payroll tax revenue is \n",
    "$ 1990.95 Billions\n",
    "\n",
    "Year  2031 : total payroll tax revenue is \n",
    "$ 2069.63 Billions\n",
    "\n",
    "Year  2032 : total payroll tax revenue is \n",
    "$ 2151.42 Billions\n",
    "\n",
    "Year  2033 : total payroll tax revenue is \n",
    "$ 2221.94 Billions"
   ]
  }
 ],
 "metadata": {
  "kernelspec": {
   "display_name": "Python 3 (ipykernel)",
   "language": "python",
   "name": "python3"
  },
  "language_info": {
   "codemirror_mode": {
    "name": "ipython",
    "version": 3
   },
   "file_extension": ".py",
   "mimetype": "text/x-python",
   "name": "python",
   "nbconvert_exporter": "python",
   "pygments_lexer": "ipython3",
   "version": "3.9.13"
  }
 },
 "nbformat": 4,
 "nbformat_minor": 5
}
