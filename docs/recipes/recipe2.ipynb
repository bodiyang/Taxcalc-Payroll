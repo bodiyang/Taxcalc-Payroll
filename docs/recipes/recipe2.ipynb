{
 "cells": [
  {
   "cell_type": "markdown",
   "id": "66972857",
   "metadata": {},
   "source": [
    "# Recipe2: Employer side Payroll Tax Offset "
   ]
  },
  {
   "cell_type": "markdown",
   "id": "c07711bd",
   "metadata": {},
   "source": [
    "This recipe is to introduce the usage of ` employer_payroll_offset` function from `payrolloffset.py`, when calling the function to conduct analysis upon employer side payroll tax reform"
   ]
  },
  {
   "cell_type": "code",
   "execution_count": 40,
   "id": "c6e7dd74",
   "metadata": {},
   "outputs": [],
   "source": [
    "import taxcalcpayroll as tcp\n",
    "from taxcalcpayroll.payrolloffset import employer_payroll_offset\n",
    "\n",
    "import pandas as pd\n",
    "import numpy as np"
   ]
  },
  {
   "cell_type": "code",
   "execution_count": null,
   "id": "88f8cded",
   "metadata": {},
   "outputs": [],
   "source": [
    "recs = tcp.Records(data = 'puf.csv')\n",
    "pol = tcp.Policy()\n",
    "calc0 = tcp.Calculator(policy = pol, records = recs)"
   ]
  },
  {
   "cell_type": "markdown",
   "id": "74f9d282",
   "metadata": {},
   "source": [
    "#### policy reform: increase the employer side FICA social security payroll tax rate to 0.072, for the year 2025 "
   ]
  },
  {
   "cell_type": "code",
   "execution_count": 42,
   "id": "ec3784a3",
   "metadata": {},
   "outputs": [],
   "source": [
    "reform1 = {'FICA_ss_trt_employer': {\"2025\": 0.072}}"
   ]
  },
  {
   "cell_type": "markdown",
   "id": "f7e42f55",
   "metadata": {},
   "source": [
    "### (1) total tax revenue after the reform (without offset)"
   ]
  },
  {
   "cell_type": "code",
   "execution_count": null,
   "id": "6c43c4e0",
   "metadata": {},
   "outputs": [],
   "source": [
    "recs = tcp.Records(data = 'puf.csv')\n",
    "pol1 = tcp.Policy()\n",
    "pol1.implement_reform(reform1, print_warnings=True, raise_errors=True)\n",
    "calc1 = tcp.Calculator(policy = pol1, records = recs)\n",
    "\n",
    "calc1.advance_to_year(2025)\n",
    "calc1.calc_all()\n",
    "print(\"In 2025, combined tax revenue under reformed policy (without offset) is: \", calc1.weighted_total('combined') / 10**9)"
   ]
  },
  {
   "cell_type": "markdown",
   "id": "c218df57",
   "metadata": {},
   "source": [
    "In 2025, combined tax revenue under reformed policy (without offset) is:  $4053.78 Billion"
   ]
  },
  {
   "cell_type": "markdown",
   "id": "884f4b3c",
   "metadata": {},
   "source": [
    "### (2) total tax revenue after the reform, considering the offset"
   ]
  },
  {
   "cell_type": "code",
   "execution_count": 44,
   "id": "0872e06c",
   "metadata": {},
   "outputs": [],
   "source": [
    "calc0.advance_to_year(2025)\n",
    "calc0.calc_all()"
   ]
  },
  {
   "cell_type": "markdown",
   "id": "0549a26a",
   "metadata": {},
   "source": [
    "### Function usage:\n",
    "Input for offset function: baseline calculator (its policy and records object) and reform policy \n",
    "\n",
    "Output for offset function: returns a dataframe of output variables"
   ]
  },
  {
   "cell_type": "code",
   "execution_count": null,
   "id": "78b01370",
   "metadata": {},
   "outputs": [],
   "source": [
    "offdf = employer_payroll_offset(reform1, calc0, pol, recs, dump=False)    "
   ]
  },
  {
   "cell_type": "markdown",
   "id": "d7968a54",
   "metadata": {},
   "source": [
    "print the result of calculated combined tax revenue"
   ]
  },
  {
   "cell_type": "code",
   "execution_count": 46,
   "id": "83baa2ab",
   "metadata": {},
   "outputs": [
    {
     "name": "stdout",
     "output_type": "stream",
     "text": [
      "In 2025, combined tax revenue under reformed policy, after the offset, is:  4023.508250234729\n"
     ]
    }
   ],
   "source": [
    "print(\"In 2025, combined tax revenue under reformed policy, after the offset, is: \", (offdf['combined'] * offdf['s006']).sum() / 10**9)"
   ]
  },
  {
   "cell_type": "markdown",
   "id": "9f13def1",
   "metadata": {},
   "source": [
    "In 2025, combined tax revenue under reformed policy, after the offset, is:  $4023.51 Billion"
   ]
  },
  {
   "cell_type": "markdown",
   "id": "982e877d",
   "metadata": {},
   "source": [
    "## Muti year usage"
   ]
  },
  {
   "cell_type": "markdown",
   "id": "8d919226",
   "metadata": {},
   "source": [
    "Comparison of total tax revenue calculation of baseline policy, reform policy (without offset), and reform policy considering offset"
   ]
  },
  {
   "cell_type": "code",
   "execution_count": 47,
   "id": "8588fe23",
   "metadata": {},
   "outputs": [],
   "source": [
    "# setup some tool list to help printing result\n",
    "dtable = pd.DataFrame([])\n",
    "year_list = []\n",
    "cur_list = []\n",
    "reform_list = []\n",
    "offset_list = []\n",
    "base_ref_diff = []\n",
    "ref_offset_diff = []\n",
    "base_offset_diff = []\n",
    "\n",
    "cur_sum = 0\n",
    "reform_sum = 0\n",
    "offset_sum = 0\n",
    "base_ref_sum = 0\n",
    "ref_offset_sum = 0\n",
    "base_offset_sum = 0"
   ]
  },
  {
   "cell_type": "code",
   "execution_count": null,
   "id": "03e6e93a",
   "metadata": {},
   "outputs": [],
   "source": [
    "recs = tcp.Records(data = 'puf.csv')\n",
    "pol = tcp.Policy()\n",
    "calc0 = tcp.Calculator(policy = pol, records = recs)\n",
    "\n",
    "recs = tcp.Records(data = 'puf.csv')\n",
    "pol1 = tcp.Policy()\n",
    "pol1.implement_reform(reform1, print_warnings=True, raise_errors=True)\n",
    "calc1 = tcp.Calculator(policy = pol1, records = recs)"
   ]
  },
  {
   "cell_type": "code",
   "execution_count": null,
   "id": "b2335573",
   "metadata": {},
   "outputs": [],
   "source": [
    "# multi year \n",
    "for year in range(2024, 2034):   \n",
    "    year_list.append(year)\n",
    "    # baseline\n",
    "    calc0.advance_to_year(year)\n",
    "    calc0.calc_all()\n",
    "    itax_rev0 = calc0.weighted_total('combined')\n",
    "    itax_rev0 = (itax_rev0/10**9).round(2)\n",
    "    cur_list.append(itax_rev0)\n",
    "    cur_sum += itax_rev0\n",
    "    \n",
    "    # reform before offset\n",
    "    calc1.advance_to_year(year)\n",
    "    calc1.calc_all()\n",
    "    itax_rev1 = calc1.weighted_total('combined')\n",
    "    itax_rev1 = (itax_rev1/10**9).round(2)\n",
    "    reform_list.append(itax_rev1)\n",
    "    br_diff = itax_rev1 - itax_rev0\n",
    "    base_ref_diff.append(br_diff)\n",
    "    reform_sum += itax_rev0\n",
    "    base_ref_sum += br_diff\n",
    "    \n",
    "    \n",
    "    # offset\n",
    "    offset_df = employer_payroll_offset(reform1, calc0, pol, recs, dump=False)\n",
    "    itax_revbr = (offset_df['combined'] * offset_df['s006']).sum()\n",
    "    itax_revbr = (itax_revbr/10**9).round(2)\n",
    "    offset_list.append(itax_revbr)\n",
    "    ro_diff = itax_revbr - itax_rev1\n",
    "    ref_offset_diff.append(ro_diff)\n",
    "    bo_diff = itax_revbr - itax_rev0\n",
    "    base_offset_diff.append(bo_diff)\n",
    "    offset_sum += itax_revbr\n",
    "    ref_offset_sum += ro_diff\n",
    "    base_offset_sum += bo_diff\n",
    "    \n",
    "    \n",
    "year_list.append(\"10 year 2024-2033\")  \n",
    "cur_list.append(cur_sum)\n",
    "reform_list.append(reform_sum)\n",
    "base_ref_diff.append(base_ref_sum)\n",
    "offset_list.append(offset_sum)\n",
    "ref_offset_diff.append(ref_offset_sum)\n",
    "base_offset_diff.append(base_offset_sum)\n"
   ]
  },
  {
   "cell_type": "code",
   "execution_count": 57,
   "id": "a338081b",
   "metadata": {},
   "outputs": [],
   "source": [
    "df = pd.DataFrame({'Year': year_list, 'Baseline Tototal Revenue': cur_list, 'Reform Tototal Revenue (no offset)': reform_list,\n",
    "                   'Reform Tototal Revenue with offset': offset_list, \"Diff: Reform - Baseline\": base_ref_diff,\n",
    "                   'Diff: Offset - Reform': ref_offset_diff, \"Diff: Offset - Baseline\": base_offset_diff\n",
    "                  })"
   ]
  },
  {
   "cell_type": "code",
   "execution_count": 60,
   "id": "adbcfde6",
   "metadata": {},
   "outputs": [],
   "source": [
    "df = df.style.hide()"
   ]
  },
  {
   "cell_type": "code",
   "execution_count": 67,
   "id": "074fa563",
   "metadata": {},
   "outputs": [
    {
     "data": {
      "text/html": [
       "<div>\n",
       "<style scoped>\n",
       "    .dataframe tbody tr th:only-of-type {\n",
       "        vertical-align: middle;\n",
       "    }\n",
       "\n",
       "    .dataframe tbody tr th {\n",
       "        vertical-align: top;\n",
       "    }\n",
       "\n",
       "    .dataframe thead th {\n",
       "        text-align: right;\n",
       "    }\n",
       "</style>\n",
       "<table border=\"1\" class=\"dataframe\">\n",
       "  <thead>\n",
       "    <tr style=\"text-align: right;\">\n",
       "      <th></th>\n",
       "      <th>Year</th>\n",
       "      <th>Baseline Tototal Revenue</th>\n",
       "      <th>Reform Tototal Revenue (no offset)</th>\n",
       "      <th>Reform Tototal Revenue with offset</th>\n",
       "      <th>Diff: Reform - Baseline</th>\n",
       "      <th>Diff: Offset - Reform</th>\n",
       "      <th>Diff: Offset - Baseline</th>\n",
       "    </tr>\n",
       "  </thead>\n",
       "  <tbody>\n",
       "    <tr>\n",
       "      <th>0</th>\n",
       "      <td>2024</td>\n",
       "      <td>3757.61</td>\n",
       "      <td>3757.61</td>\n",
       "      <td>3757.61</td>\n",
       "      <td>0.00</td>\n",
       "      <td>0.00</td>\n",
       "      <td>0.00</td>\n",
       "    </tr>\n",
       "    <tr>\n",
       "      <th>1</th>\n",
       "      <td>2025</td>\n",
       "      <td>3952.99</td>\n",
       "      <td>4053.78</td>\n",
       "      <td>4023.51</td>\n",
       "      <td>100.79</td>\n",
       "      <td>-30.27</td>\n",
       "      <td>70.52</td>\n",
       "    </tr>\n",
       "    <tr>\n",
       "      <th>2</th>\n",
       "      <td>2026</td>\n",
       "      <td>4353.22</td>\n",
       "      <td>4458.41</td>\n",
       "      <td>4423.90</td>\n",
       "      <td>105.19</td>\n",
       "      <td>-34.51</td>\n",
       "      <td>70.68</td>\n",
       "    </tr>\n",
       "    <tr>\n",
       "      <th>3</th>\n",
       "      <td>2027</td>\n",
       "      <td>4543.83</td>\n",
       "      <td>4653.24</td>\n",
       "      <td>4617.23</td>\n",
       "      <td>109.41</td>\n",
       "      <td>-36.01</td>\n",
       "      <td>73.40</td>\n",
       "    </tr>\n",
       "    <tr>\n",
       "      <th>4</th>\n",
       "      <td>2028</td>\n",
       "      <td>4737.26</td>\n",
       "      <td>4850.96</td>\n",
       "      <td>4813.43</td>\n",
       "      <td>113.70</td>\n",
       "      <td>-37.53</td>\n",
       "      <td>76.17</td>\n",
       "    </tr>\n",
       "    <tr>\n",
       "      <th>5</th>\n",
       "      <td>2029</td>\n",
       "      <td>4935.73</td>\n",
       "      <td>5053.90</td>\n",
       "      <td>5014.79</td>\n",
       "      <td>118.17</td>\n",
       "      <td>-39.11</td>\n",
       "      <td>79.06</td>\n",
       "    </tr>\n",
       "    <tr>\n",
       "      <th>6</th>\n",
       "      <td>2030</td>\n",
       "      <td>5139.73</td>\n",
       "      <td>5262.54</td>\n",
       "      <td>5221.78</td>\n",
       "      <td>122.81</td>\n",
       "      <td>-40.76</td>\n",
       "      <td>82.05</td>\n",
       "    </tr>\n",
       "    <tr>\n",
       "      <th>7</th>\n",
       "      <td>2031</td>\n",
       "      <td>5348.20</td>\n",
       "      <td>5475.84</td>\n",
       "      <td>5433.37</td>\n",
       "      <td>127.64</td>\n",
       "      <td>-42.47</td>\n",
       "      <td>85.17</td>\n",
       "    </tr>\n",
       "    <tr>\n",
       "      <th>8</th>\n",
       "      <td>2032</td>\n",
       "      <td>5549.99</td>\n",
       "      <td>5682.67</td>\n",
       "      <td>5638.45</td>\n",
       "      <td>132.68</td>\n",
       "      <td>-44.22</td>\n",
       "      <td>88.46</td>\n",
       "    </tr>\n",
       "    <tr>\n",
       "      <th>9</th>\n",
       "      <td>2033</td>\n",
       "      <td>5781.67</td>\n",
       "      <td>5918.52</td>\n",
       "      <td>5872.84</td>\n",
       "      <td>136.85</td>\n",
       "      <td>-45.68</td>\n",
       "      <td>91.17</td>\n",
       "    </tr>\n",
       "    <tr>\n",
       "      <th>10</th>\n",
       "      <td>10 year 2024-2033</td>\n",
       "      <td>48100.23</td>\n",
       "      <td>48100.23</td>\n",
       "      <td>48816.91</td>\n",
       "      <td>1067.24</td>\n",
       "      <td>-350.56</td>\n",
       "      <td>716.68</td>\n",
       "    </tr>\n",
       "  </tbody>\n",
       "</table>\n",
       "</div>"
      ],
      "text/plain": [
       "                 Year  Baseline Tototal Revenue  \\\n",
       "0                2024                   3757.61   \n",
       "1                2025                   3952.99   \n",
       "2                2026                   4353.22   \n",
       "3                2027                   4543.83   \n",
       "4                2028                   4737.26   \n",
       "5                2029                   4935.73   \n",
       "6                2030                   5139.73   \n",
       "7                2031                   5348.20   \n",
       "8                2032                   5549.99   \n",
       "9                2033                   5781.67   \n",
       "10  10 year 2024-2033                  48100.23   \n",
       "\n",
       "    Reform Tototal Revenue (no offset)  Reform Tototal Revenue with offset  \\\n",
       "0                              3757.61                             3757.61   \n",
       "1                              4053.78                             4023.51   \n",
       "2                              4458.41                             4423.90   \n",
       "3                              4653.24                             4617.23   \n",
       "4                              4850.96                             4813.43   \n",
       "5                              5053.90                             5014.79   \n",
       "6                              5262.54                             5221.78   \n",
       "7                              5475.84                             5433.37   \n",
       "8                              5682.67                             5638.45   \n",
       "9                              5918.52                             5872.84   \n",
       "10                            48100.23                            48816.91   \n",
       "\n",
       "    Diff: Reform - Baseline  Diff: Offset - Reform  Diff: Offset - Baseline  \n",
       "0                      0.00                   0.00                     0.00  \n",
       "1                    100.79                 -30.27                    70.52  \n",
       "2                    105.19                 -34.51                    70.68  \n",
       "3                    109.41                 -36.01                    73.40  \n",
       "4                    113.70                 -37.53                    76.17  \n",
       "5                    118.17                 -39.11                    79.06  \n",
       "6                    122.81                 -40.76                    82.05  \n",
       "7                    127.64                 -42.47                    85.17  \n",
       "8                    132.68                 -44.22                    88.46  \n",
       "9                    136.85                 -45.68                    91.17  \n",
       "10                  1067.24                -350.56                   716.68  "
      ]
     },
     "metadata": {},
     "output_type": "display_data"
    }
   ],
   "source": [
    "display(df)"
   ]
  },
  {
   "cell_type": "code",
   "execution_count": null,
   "id": "d461afc9",
   "metadata": {},
   "outputs": [],
   "source": []
  }
 ],
 "metadata": {
  "kernelspec": {
   "display_name": "Python 3 (ipykernel)",
   "language": "python",
   "name": "python3"
  },
  "language_info": {
   "codemirror_mode": {
    "name": "ipython",
    "version": 3
   },
   "file_extension": ".py",
   "mimetype": "text/x-python",
   "name": "python",
   "nbconvert_exporter": "python",
   "pygments_lexer": "ipython3",
   "version": "3.9.13"
  }
 },
 "nbformat": 4,
 "nbformat_minor": 5
}
