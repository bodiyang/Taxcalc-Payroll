{
 "cells": [
  {
   "cell_type": "markdown",
   "id": "66972857",
   "metadata": {},
   "source": [
    "# Recipe2: Employer side Payroll Tax Offset "
   ]
  },
  {
   "cell_type": "markdown",
   "id": "c07711bd",
   "metadata": {},
   "source": [
    "This recipe is to introduce the usage of ` employer_payroll_offset` function from `payrolloffset.py`, when calling the function to conduct analysis upon employer side payroll tax reform"
   ]
  },
  {
   "cell_type": "code",
   "execution_count": null,
   "id": "c6e7dd74",
   "metadata": {},
   "outputs": [],
   "source": [
    "import taxcalcpayroll as tcp\n",
    "import taxcalc as tc\n",
    "from taxcalcpayroll.payrolloffset import employer_payroll_offset"
   ]
  },
  {
   "cell_type": "code",
   "execution_count": null,
   "id": "88f8cded",
   "metadata": {},
   "outputs": [],
   "source": [
    "recs = tcp.Records(data = 'puf.csv')\n",
    "pol = tcp.Policy()\n",
    "calc0 = tcp.Calculator(policy = pol, records = recs)"
   ]
  },
  {
   "cell_type": "markdown",
   "id": "74f9d282",
   "metadata": {},
   "source": [
    "#### policy reform: increase the employer side FICA social security payroll tax rate to 0.072, for the year 2025 "
   ]
  },
  {
   "cell_type": "code",
   "execution_count": null,
   "id": "ec3784a3",
   "metadata": {},
   "outputs": [],
   "source": [
    "reform1 = {'FICA_ss_trt_employer': {\"2025\": 0.072}}"
   ]
  },
  {
   "cell_type": "markdown",
   "id": "f7e42f55",
   "metadata": {},
   "source": [
    "### (1) total tax revenue after the reform (without offset)"
   ]
  },
  {
   "cell_type": "code",
   "execution_count": null,
   "id": "6c43c4e0",
   "metadata": {},
   "outputs": [],
   "source": [
    "recs = tcp.Records(data = 'puf.csv')\n",
    "pol1 = tcp.Policy()\n",
    "pol1.implement_reform(reform1, print_warnings=True, raise_errors=True)\n",
    "calc1 = tcp.Calculator(policy = pol1, records = recs)\n",
    "\n",
    "calc1.advance_to_year(2025)\n",
    "calc1.calc_all()\n",
    "print(\"In 2025, combined tax revenue under reformed policy (without offset) is: \", calc1.weighted_total('combined') / 10**9)"
   ]
  },
  {
   "cell_type": "markdown",
   "id": "c218df57",
   "metadata": {},
   "source": [
    "In 2025, combined tax revenue under reformed policy (without offset) is:  $4053.78 Billion"
   ]
  },
  {
   "cell_type": "markdown",
   "id": "884f4b3c",
   "metadata": {},
   "source": [
    "### (2) total tax revenue after the reform, considering the offset"
   ]
  },
  {
   "cell_type": "code",
   "execution_count": 15,
   "id": "0872e06c",
   "metadata": {},
   "outputs": [],
   "source": [
    "calc0.advance_to_year(2025)\n",
    "calc0.calc_all()"
   ]
  },
  {
   "cell_type": "markdown",
   "id": "0549a26a",
   "metadata": {},
   "source": [
    "### Function usage:\n",
    "Input for offset function: baseline calculator (its policy and records object) and reform policy \n",
    "\n",
    "Output for offset function: returns a dataframe of output variables"
   ]
  },
  {
   "cell_type": "code",
   "execution_count": null,
   "id": "78b01370",
   "metadata": {},
   "outputs": [],
   "source": [
    "offdf = employer_payroll_offset(reform1, calc0, pol, recs, dump=False)    "
   ]
  },
  {
   "cell_type": "markdown",
   "id": "d7968a54",
   "metadata": {},
   "source": [
    "print the result of calculated combined tax revenue"
   ]
  },
  {
   "cell_type": "code",
   "execution_count": null,
   "id": "83baa2ab",
   "metadata": {},
   "outputs": [],
   "source": [
    "print(\"In 2025, combined tax revenue under reformed policy, after the offset, is: \", (offdf['combined'] * offdf['s006']).sum() / 10**9)"
   ]
  },
  {
   "cell_type": "markdown",
   "id": "9f13def1",
   "metadata": {},
   "source": [
    "In 2025, combined tax revenue under reformed policy, after the offset, is:  $4023.51 Billion"
   ]
  },
  {
   "cell_type": "markdown",
   "id": "982e877d",
   "metadata": {},
   "source": [
    "## Muti year usage"
   ]
  },
  {
   "cell_type": "markdown",
   "id": "8d919226",
   "metadata": {},
   "source": [
    "Comparison of total tax revenue calculation of baseline policy, reform policy (without offset), and reform policy considering offset"
   ]
  },
  {
   "cell_type": "code",
   "execution_count": null,
   "id": "03e6e93a",
   "metadata": {},
   "outputs": [],
   "source": [
    "recs = tcp.Records(data = 'puf.csv')\n",
    "pol = tcp.Policy()\n",
    "calc0 = tcp.Calculator(policy = pol, records = recs)\n",
    "\n",
    "recs = tcp.Records(data = 'puf.csv')\n",
    "pol1 = tcp.Policy()\n",
    "pol1.implement_reform(reform1, print_warnings=True, raise_errors=True)\n",
    "calc1 = tcp.Calculator(policy = pol1, records = recs)"
   ]
  },
  {
   "cell_type": "code",
   "execution_count": null,
   "id": "e470151f",
   "metadata": {
    "scrolled": true
   },
   "outputs": [],
   "source": [
    "for year in range(2023, 2031):   \n",
    "    print(\"year: \", year)\n",
    "    calc0.advance_to_year(year)\n",
    "    calc0.calc_all()\n",
    "    itax_rev0 = calc0.weighted_total('combined')\n",
    "    print(\"current law combined tax revenue: $\", (itax_rev0/10**9).round(2), \"Billions\")\n",
    "    calc1.advance_to_year(year)\n",
    "    calc1.calc_all()\n",
    "    itax_rev1 = calc1.weighted_total('combined')\n",
    "    print(\"reformed law combined tax revenue: $\", (itax_rev1/10**9).round(2), \"Billions\")\n",
    "    offset_df = employer_payroll_offset(reform1, calc0, pol, recs, dump=False)\n",
    "    itax_revbr = (offset_df['combined'] * offset_df['s006']).sum()\n",
    "    print(\"offset combined tax revenue: \", (itax_revbr/10**9).round(2), \"Billions\")\n",
    "    print(\" \")\n",
    "    "
   ]
  },
  {
   "cell_type": "markdown",
   "id": "83cfb622",
   "metadata": {},
   "source": [
    "year:  2023\n",
    "\n",
    "current law combined tax revenue: $ 3636.44 Billions\n",
    "\n",
    "reformed law combined tax revenue: $ 3636.44 Billions\n",
    "\n",
    "offset combined tax revenue:  3636.44 Billions\n",
    " \n",
    "year:  2024\n",
    "\n",
    "current law combined tax revenue: $ 3757.61 Billions\n",
    "\n",
    "reformed law combined tax revenue: $ 3757.61 Billions\n",
    "\n",
    "offset combined tax revenue:  3757.61 Billions\n",
    " \n",
    "year:  2025\n",
    "\n",
    "current law combined tax revenue: $ 3952.99 Billions\n",
    "\n",
    "reformed law combined tax revenue: $ 4053.78 Billions\n",
    "\n",
    "offset combined tax revenue:  4023.51 Billions\n",
    " \n",
    "year:  2026\n",
    "\n",
    "current law combined tax revenue: $ 4353.22 Billions\n",
    "\n",
    "reformed law combined tax revenue: $ 4458.41 Billions\n",
    "\n",
    "offset combined tax revenue:  4423.9 Billions\n",
    " \n",
    "year:  2027\n",
    "\n",
    "current law combined tax revenue: $ 4543.83 Billions\n",
    "\n",
    "reformed law combined tax revenue: $ 4653.24 Billions\n",
    "\n",
    "offset combined tax revenue:  4617.23 Billions\n",
    " \n",
    "year:  2028\n",
    "\n",
    "current law combined tax revenue: $ 4737.26 Billions\n",
    "\n",
    "reformed law combined tax revenue: $ 4850.96 Billions\n",
    "\n",
    "offset combined tax revenue:  4813.43 Billions\n",
    " \n",
    "year:  2029\n",
    "\n",
    "current law combined tax revenue: $ 4935.73 Billions\n",
    "\n",
    "reformed law combined tax revenue: $ 5053.9 Billions\n",
    "\n",
    "offset combined tax revenue:  5014.79 Billions\n",
    " \n",
    "year:  2030\n",
    "\n",
    "current law combined tax revenue: $ 5139.73 Billions\n",
    "\n",
    "reformed law combined tax revenue: $ 5262.54 Billions\n",
    "\n",
    "offset combined tax revenue:  5221.78 Billions\n",
    " "
   ]
  }
 ],
 "metadata": {
  "kernelspec": {
   "display_name": "Python 3 (ipykernel)",
   "language": "python",
   "name": "python3"
  },
  "language_info": {
   "codemirror_mode": {
    "name": "ipython",
    "version": 3
   },
   "file_extension": ".py",
   "mimetype": "text/x-python",
   "name": "python",
   "nbconvert_exporter": "python",
   "pygments_lexer": "ipython3",
   "version": "3.9.13"
  }
 },
 "nbformat": 4,
 "nbformat_minor": 5
}
